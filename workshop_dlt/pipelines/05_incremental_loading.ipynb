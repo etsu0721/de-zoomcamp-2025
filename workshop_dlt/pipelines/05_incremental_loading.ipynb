{
 "cells": [
  {
   "cell_type": "code",
   "execution_count": 3,
   "metadata": {},
   "outputs": [],
   "source": [
    "import dlt\n",
    "from dlt.sources.helpers.rest_client import RESTClient\n",
    "from dlt.sources.helpers.rest_client.paginators import PageNumberPaginator"
   ]
  },
  {
   "cell_type": "code",
   "execution_count": 5,
   "metadata": {},
   "outputs": [],
   "source": [
    "# Automatic pagination w/ incremental loading\n",
    "@dlt.resource(name=\"rides\", write_disposition=\"append\")\n",
    "def ny_taxi_inc_paginated_getter(\n",
    "    cursor_date=dlt.sources.incremental(\n",
    "        \"Trip_Dropoff_DateTime\",   # <--- field to track\n",
    "        initial_value=\"2009-06-15\",   # <--- start date June 15, 2009\n",
    "        )\n",
    "    ):\n",
    "    client = RESTClient(\n",
    "        base_url=\"https://us-central1-dlthub-analytics.cloudfunctions.net\",\n",
    "        paginator=PageNumberPaginator(\n",
    "            base_page=1,\n",
    "            total_path=None\n",
    "        )\n",
    "    )\n",
    "\n",
    "    for page in client.paginate(\"data_engineering_zoomcamp_api\"):\n",
    "        yield page"
   ]
  },
  {
   "cell_type": "code",
   "execution_count": 10,
   "metadata": {},
   "outputs": [
    {
     "name": "stdout",
     "output_type": "stream",
     "text": [
      "\n",
      "Printing pipeline last trace...\n",
      "Run started at 2025-02-17 17:32:27.546816+00:00 and COMPLETED in 20.29 seconds with 4 steps.\n",
      "Step extract COMPLETED in 20.17 seconds.\n",
      "\n",
      "Load package 1739813547.647686 is EXTRACTED and NOT YET LOADED to the destination and contains no failed jobs\n",
      "\n",
      "Step normalize COMPLETED in 0.04 seconds.\n",
      "No data found to normalize\n",
      "\n",
      "Step load COMPLETED in 0.01 seconds.\n",
      "Pipeline load_ny_taxi_data_inc load step completed in ---\n",
      "0 load package(s) were loaded to destination duckdb and into dataset None\n",
      "The duckdb destination used duckdb:////Users/elijahsutton/Projects/de-zoomcamp-2025/workshop_dlt/pipelines/load_ny_taxi_data_inc.duckdb location to store data\n",
      "\n",
      "Step run COMPLETED in 20.29 seconds.\n",
      "Pipeline load_ny_taxi_data_inc load step completed in ---\n",
      "0 load package(s) were loaded to destination duckdb and into dataset None\n",
      "The duckdb destination used duckdb:////Users/elijahsutton/Projects/de-zoomcamp-2025/workshop_dlt/pipelines/load_ny_taxi_data_inc.duckdb location to store data\n"
     ]
    }
   ],
   "source": [
    "# Define dlt pipeline\n",
    "pipeline = dlt.pipeline(\n",
    "    pipeline_name=\"load_ny_taxi_data_inc\",\n",
    "    destination=\"duckdb\",\n",
    "    dataset_name=\"ny_taxi_data\"\n",
    ")\n",
    "\n",
    "# Load to DuckDB\n",
    "load_info = pipeline.run(ny_taxi_inc_paginated_getter)\n",
    "\n",
    "print('\\nPrinting pipeline last trace...')\n",
    "print(pipeline.last_trace)"
   ]
  },
  {
   "cell_type": "code",
   "execution_count": 12,
   "metadata": {},
   "outputs": [
    {
     "name": "stdout",
     "output_type": "stream",
     "text": [
      "[(datetime.datetime(2009, 6, 15, 0, 6, tzinfo=<UTC>),)]\n"
     ]
    }
   ],
   "source": [
    "# Check earliest date in loaded data\n",
    "with pipeline.sql_client() as client:\n",
    "    res = client.execute_sql(\n",
    "            \"\"\"\n",
    "            SELECT\n",
    "            MIN(trip_dropoff_date_time)\n",
    "            FROM rides;\n",
    "            \"\"\"\n",
    "        )\n",
    "    print(res)"
   ]
  },
  {
   "cell_type": "code",
   "execution_count": null,
   "metadata": {},
   "outputs": [],
   "source": []
  }
 ],
 "metadata": {
  "kernelspec": {
   "display_name": "dezc25",
   "language": "python",
   "name": "python3"
  },
  "language_info": {
   "codemirror_mode": {
    "name": "ipython",
    "version": 3
   },
   "file_extension": ".py",
   "mimetype": "text/x-python",
   "name": "python",
   "nbconvert_exporter": "python",
   "pygments_lexer": "ipython3",
   "version": "3.9.18"
  }
 },
 "nbformat": 4,
 "nbformat_minor": 2
}
