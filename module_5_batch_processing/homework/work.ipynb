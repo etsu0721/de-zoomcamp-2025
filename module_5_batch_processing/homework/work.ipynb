{
 "cells": [
  {
   "cell_type": "markdown",
   "metadata": {},
   "source": [
    "# Code / work for Module 5 on batch processing"
   ]
  },
  {
   "cell_type": "code",
   "execution_count": 1,
   "metadata": {},
   "outputs": [],
   "source": [
    "from pyspark.sql import SparkSession"
   ]
  },
  {
   "cell_type": "markdown",
   "metadata": {},
   "source": [
    "### Question 1: Spark version"
   ]
  },
  {
   "cell_type": "code",
   "execution_count": 2,
   "metadata": {},
   "outputs": [
    {
     "name": "stderr",
     "output_type": "stream",
     "text": [
      "25/03/06 21:14:08 WARN Utils: Your hostname, eli-mac.local resolves to a loopback address: 127.0.0.1; using 192.168.1.25 instead (on interface en0)\n",
      "25/03/06 21:14:08 WARN Utils: Set SPARK_LOCAL_IP if you need to bind to another address\n",
      "Setting default log level to \"WARN\".\n",
      "To adjust logging level use sc.setLogLevel(newLevel). For SparkR, use setLogLevel(newLevel).\n",
      "25/03/06 21:14:09 WARN NativeCodeLoader: Unable to load native-hadoop library for your platform... using builtin-java classes where applicable\n"
     ]
    },
    {
     "data": {
      "text/plain": [
       "'3.5.5'"
      ]
     },
     "execution_count": 2,
     "metadata": {},
     "output_type": "execute_result"
    }
   ],
   "source": [
    "spark = SparkSession.builder \\\n",
    "    .master('local[*]') \\\n",
    "    .appName('hw') \\\n",
    "    .getOrCreate()\n",
    "spark.version"
   ]
  },
  {
   "cell_type": "markdown",
   "metadata": {},
   "source": [
    "### Question 2: Size of partitioned parquet files?"
   ]
  },
  {
   "cell_type": "code",
   "execution_count": 3,
   "metadata": {},
   "outputs": [
    {
     "name": "stdout",
     "output_type": "stream",
     "text": [
      "  % Total    % Received % Xferd  Average Speed   Time    Time     Time  Current\n",
      "                                 Dload  Upload   Total   Spent    Left  Speed\n",
      "100 61.3M  100 61.3M    0     0  34.6M      0  0:00:01  0:00:01 --:--:-- 34.6M\n"
     ]
    }
   ],
   "source": [
    "# Download 2024-10 yellow taxi data (parquet)\n",
    "!cd ../data/hw/ && curl -O https://d37ci6vzurychx.cloudfront.net/trip-data/yellow_tripdata_2024-10.parquet"
   ]
  },
  {
   "cell_type": "code",
   "execution_count": 4,
   "metadata": {},
   "outputs": [
    {
     "name": "stderr",
     "output_type": "stream",
     "text": [
      "                                                                                \r"
     ]
    }
   ],
   "source": [
    "df = spark.read.parquet('../data/hw/yellow_tripdata_2024-10.parquet')"
   ]
  },
  {
   "cell_type": "code",
   "execution_count": 6,
   "metadata": {},
   "outputs": [
    {
     "name": "stderr",
     "output_type": "stream",
     "text": [
      "                                                                                \r"
     ]
    }
   ],
   "source": [
    "df = df.repartition(4)\n",
    "df.write.parquet('../data/hw/pq/2024/10/', mode='overwrite')"
   ]
  },
  {
   "cell_type": "code",
   "execution_count": 7,
   "metadata": {},
   "outputs": [
    {
     "name": "stdout",
     "output_type": "stream",
     "text": [
      "total 188928\n",
      "-rw-r--r--  1 elijahsutton  staff     0B Mar  6 21:15 _SUCCESS\n",
      "-rw-r--r--  1 elijahsutton  staff    22M Mar  6 21:15 part-00000-d6cc26b4-71a3-49dd-90c2-5bd153f67b1c-c000.snappy.parquet\n",
      "-rw-r--r--  1 elijahsutton  staff    22M Mar  6 21:15 part-00001-d6cc26b4-71a3-49dd-90c2-5bd153f67b1c-c000.snappy.parquet\n",
      "-rw-r--r--  1 elijahsutton  staff    22M Mar  6 21:15 part-00002-d6cc26b4-71a3-49dd-90c2-5bd153f67b1c-c000.snappy.parquet\n",
      "-rw-r--r--  1 elijahsutton  staff    22M Mar  6 21:15 part-00003-d6cc26b4-71a3-49dd-90c2-5bd153f67b1c-c000.snappy.parquet\n"
     ]
    }
   ],
   "source": [
    "!ls -lh ../data/hw/pq/2024/10/"
   ]
  },
  {
   "cell_type": "markdown",
   "metadata": {},
   "source": [
    "### Question 3: Number of taxi trips on Oct. 15?"
   ]
  },
  {
   "cell_type": "code",
   "execution_count": 3,
   "metadata": {},
   "outputs": [],
   "source": [
    "from pyspark.sql import functions as F"
   ]
  },
  {
   "cell_type": "code",
   "execution_count": 18,
   "metadata": {},
   "outputs": [
    {
     "data": {
      "text/plain": [
       "128893"
      ]
     },
     "execution_count": 18,
     "metadata": {},
     "output_type": "execute_result"
    }
   ],
   "source": [
    "df.filter(\n",
    "    F.to_date('tpep_pickup_datetime') == '2024-10-15'\n",
    ").count()"
   ]
  },
  {
   "cell_type": "markdown",
   "metadata": {},
   "source": [
    "### Question 4: Longest trip (in hours)?"
   ]
  },
  {
   "cell_type": "code",
   "execution_count": 31,
   "metadata": {},
   "outputs": [
    {
     "name": "stderr",
     "output_type": "stream",
     "text": [
      "[Stage 55:==================================================>       (7 + 1) / 8]\r"
     ]
    },
    {
     "name": "stdout",
     "output_type": "stream",
     "text": [
      "+------------------+\n",
      "|max(time_diff_hrs)|\n",
      "+------------------+\n",
      "|162.61777777777777|\n",
      "+------------------+\n",
      "\n"
     ]
    },
    {
     "name": "stderr",
     "output_type": "stream",
     "text": [
      "                                                                                \r"
     ]
    }
   ],
   "source": [
    "df.withColumn(\n",
    "    'time_diff_hrs', \n",
    "    (F.unix_timestamp('tpep_dropoff_datetime') - F.unix_timestamp('tpep_pickup_datetime')) / 3600\n",
    ").select(\n",
    "    F.max('time_diff_hrs')\n",
    ").show()"
   ]
  },
  {
   "cell_type": "markdown",
   "metadata": {},
   "source": [
    "### Question 6:"
   ]
  },
  {
   "cell_type": "code",
   "execution_count": 9,
   "metadata": {},
   "outputs": [],
   "source": [
    "zones_df = spark.read \\\n",
    "    .option('header', 'true') \\\n",
    "    .csv('../data/tst/taxi_zone_lookup.csv')"
   ]
  },
  {
   "cell_type": "code",
   "execution_count": 10,
   "metadata": {},
   "outputs": [
    {
     "data": {
      "text/plain": [
       "['LocationID', 'Borough', 'Zone', 'service_zone']"
      ]
     },
     "execution_count": 10,
     "metadata": {},
     "output_type": "execute_result"
    }
   ],
   "source": [
    "zones_df.columns"
   ]
  },
  {
   "cell_type": "code",
   "execution_count": 11,
   "metadata": {},
   "outputs": [],
   "source": [
    "zones_df.createOrReplaceTempView('zones')\n",
    "df.createOrReplaceTempView('trips')"
   ]
  },
  {
   "cell_type": "code",
   "execution_count": 12,
   "metadata": {},
   "outputs": [
    {
     "data": {
      "text/plain": [
       "['VendorID',\n",
       " 'tpep_pickup_datetime',\n",
       " 'tpep_dropoff_datetime',\n",
       " 'passenger_count',\n",
       " 'trip_distance',\n",
       " 'RatecodeID',\n",
       " 'store_and_fwd_flag',\n",
       " 'PULocationID',\n",
       " 'DOLocationID',\n",
       " 'payment_type',\n",
       " 'fare_amount',\n",
       " 'extra',\n",
       " 'mta_tax',\n",
       " 'tip_amount',\n",
       " 'tolls_amount',\n",
       " 'improvement_surcharge',\n",
       " 'total_amount',\n",
       " 'congestion_surcharge',\n",
       " 'Airport_fee']"
      ]
     },
     "execution_count": 12,
     "metadata": {},
     "output_type": "execute_result"
    }
   ],
   "source": [
    "df.columns"
   ]
  },
  {
   "cell_type": "code",
   "execution_count": null,
   "metadata": {},
   "outputs": [
    {
     "name": "stderr",
     "output_type": "stream",
     "text": [
      "[Stage 20:>                                                         (0 + 4) / 4]\r"
     ]
    },
    {
     "name": "stdout",
     "output_type": "stream",
     "text": [
      "+--------------------+----------------+\n",
      "|         pickup_zone|zone_pickups_cnt|\n",
      "+--------------------+----------------+\n",
      "|Governor's Island...|               1|\n",
      "|       Arden Heights|               2|\n",
      "|       Rikers Island|               2|\n",
      "|         Jamaica Bay|               3|\n",
      "| Green-Wood Cemetery|               3|\n",
      "|   Rossville/Woodrow|               4|\n",
      "|       West Brighton|               4|\n",
      "|       Port Richmond|               4|\n",
      "|Charleston/Totten...|               4|\n",
      "|Eltingville/Annad...|               4|\n",
      "|         Great Kills|               6|\n",
      "|        Crotona Park|               6|\n",
      "|Heartland Village...|               7|\n",
      "|     Mariners Harbor|               7|\n",
      "|Saint George/New ...|               9|\n",
      "|             Oakwood|               9|\n",
      "|       Broad Channel|              10|\n",
      "|New Dorp/Midland ...|              10|\n",
      "|         Westerleigh|              12|\n",
      "|     Pelham Bay Park|              12|\n",
      "+--------------------+----------------+\n",
      "only showing top 20 rows\n",
      "\n"
     ]
    },
    {
     "name": "stderr",
     "output_type": "stream",
     "text": [
      "                                                                                \r"
     ]
    }
   ],
   "source": [
    "spark.sql(\n",
    "    \"\"\"\n",
    "    SELECT\n",
    "        pickup_zone.zone as pickup_zone,\n",
    "        COUNT(1) AS zone_pickups_cnt\n",
    "    FROM trips\n",
    "        INNER JOIN zones AS pickup_zone\n",
    "            ON trips.PULocationID = pickup_zone.LocationID\n",
    "        INNER JOIN zones AS dropoff_zone\n",
    "            ON trips.DOLocationID = dropoff_zone.LocationID\n",
    "    GROUP BY pickup_zone\n",
    "    ORDER BY zone_pickups_cnt\n",
    "    \"\"\"\n",
    ").show()"
   ]
  },
  {
   "cell_type": "code",
   "execution_count": null,
   "metadata": {},
   "outputs": [],
   "source": []
  }
 ],
 "metadata": {
  "kernelspec": {
   "display_name": "dezc25",
   "language": "python",
   "name": "python3"
  },
  "language_info": {
   "codemirror_mode": {
    "name": "ipython",
    "version": 3
   },
   "file_extension": ".py",
   "mimetype": "text/x-python",
   "name": "python",
   "nbconvert_exporter": "python",
   "pygments_lexer": "ipython3",
   "version": "3.9.18"
  }
 },
 "nbformat": 4,
 "nbformat_minor": 2
}
